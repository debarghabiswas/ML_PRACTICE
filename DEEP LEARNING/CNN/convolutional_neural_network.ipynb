{
 "cells": [
  {
   "cell_type": "markdown",
   "id": "f92b3926",
   "metadata": {},
   "source": [
    "IMPORTING THE LIBRARIES"
   ]
  },
  {
   "cell_type": "code",
   "execution_count": null,
   "id": "8246db0a",
   "metadata": {},
   "outputs": [],
   "source": [
    "import tensorflow as tf\n",
    "from tensorflow.keras.preprocessing.image import ImageDataGenerator"
   ]
  },
  {
   "cell_type": "code",
   "execution_count": null,
   "id": "9330aaed",
   "metadata": {},
   "outputs": [],
   "source": [
    "tf.__version__"
   ]
  },
  {
   "cell_type": "markdown",
   "id": "798eee6b",
   "metadata": {},
   "source": [
    "PART 1 - DATA PREPROCESSING"
   ]
  },
  {
   "cell_type": "markdown",
   "id": "e9d74085",
   "metadata": {},
   "source": [
    "PREPROCESSING THE TRAINING SET"
   ]
  },
  {
   "cell_type": "code",
   "execution_count": null,
   "id": "7c23f542",
   "metadata": {},
   "outputs": [],
   "source": [
    "train_datagen = ImageDataGenerator(\n",
    "    rescale = 1./255,\n",
    "    shear_range = 0.2,\n",
    "    zoom_range = 0.2,\n",
    "    horizontal_flip = True\n",
    ")\n",
    "training_set = train_datagen.flow_from_directory(\n",
    "    'dataset/training_set',\n",
    "    target_size = (80,80),\n",
    "    batch_size = 32,\n",
    "    class_mode = 'binary'\n",
    ")"
   ]
  },
  {
   "cell_type": "markdown",
   "id": "72b341eb",
   "metadata": {},
   "source": [
    "PREPROCESSING THE TEST SET"
   ]
  },
  {
   "cell_type": "code",
   "execution_count": null,
   "id": "0450391c",
   "metadata": {},
   "outputs": [],
   "source": [
    "test_datagen = ImageDataGenerator(rescale=1./255)\n",
    "test_set = test_datagen.flow_from_directory(\n",
    "    'dataset/test_set',\n",
    "    target_size = (80,80),\n",
    "    batch_size = 32,\n",
    "    class_mode = 'binary'\n",
    ")"
   ]
  },
  {
   "cell_type": "markdown",
   "id": "fa12b245",
   "metadata": {},
   "source": [
    "PART 2 - BUILDING THE CNN"
   ]
  },
  {
   "cell_type": "markdown",
   "id": "385e259e",
   "metadata": {},
   "source": [
    "INITIALISING THE CNN"
   ]
  },
  {
   "cell_type": "code",
   "execution_count": null,
   "id": "f6e94757",
   "metadata": {},
   "outputs": [],
   "source": [
    "cnn = tf.keras.models.Sequential()"
   ]
  },
  {
   "cell_type": "markdown",
   "id": "f6928e7b",
   "metadata": {},
   "source": [
    "STEP 1 - CONVOLUTION"
   ]
  },
  {
   "cell_type": "code",
   "execution_count": null,
   "id": "82374029",
   "metadata": {},
   "outputs": [],
   "source": [
    "cnn.add(tf.keras.layers.Conv2D(filters=32, kernel_size=3, activation='relu', input_shape=[80,80,3]))"
   ]
  },
  {
   "cell_type": "markdown",
   "id": "11fdda98",
   "metadata": {},
   "source": [
    "STEP 2 - POOLING"
   ]
  },
  {
   "cell_type": "code",
   "execution_count": null,
   "id": "5ea40a9f",
   "metadata": {},
   "outputs": [],
   "source": [
    "cnn.add(tf.keras.layers.MaxPool2D(pool_size=2, strides=2))"
   ]
  },
  {
   "cell_type": "markdown",
   "id": "e9701a9f",
   "metadata": {},
   "source": [
    "ADDING A SECOND CONVOLUTIONAL LAYER"
   ]
  },
  {
   "cell_type": "code",
   "execution_count": null,
   "id": "8f431724",
   "metadata": {},
   "outputs": [],
   "source": [
    "cnn.add(tf.keras.layers.Conv2D(filters=32, kernel_size=3, activation='relu'))\n",
    "cnn.add(tf.keras.layers.MaxPool2D(pool_size=2, strides=2))"
   ]
  },
  {
   "cell_type": "markdown",
   "id": "c5a78a0f",
   "metadata": {},
   "source": [
    "STEP 3 - FLATTENING"
   ]
  },
  {
   "cell_type": "code",
   "execution_count": null,
   "id": "2ea2e100",
   "metadata": {},
   "outputs": [],
   "source": [
    "cnn.add(tf.keras.layers.Flatten())"
   ]
  },
  {
   "cell_type": "markdown",
   "id": "2bec006c",
   "metadata": {},
   "source": [
    "STEP 4 - FULL CONNECTION"
   ]
  },
  {
   "cell_type": "code",
   "execution_count": null,
   "id": "6a139013",
   "metadata": {},
   "outputs": [],
   "source": [
    "cnn.add(tf.keras.layers.Dense(units=80, activation='relu'))"
   ]
  },
  {
   "cell_type": "markdown",
   "id": "a0e24e4e",
   "metadata": {},
   "source": [
    "STEP 5 - OUTPUT LAYER"
   ]
  },
  {
   "cell_type": "code",
   "execution_count": null,
   "id": "2b82867a",
   "metadata": {},
   "outputs": [],
   "source": [
    "cnn.add(tf.keras.layers.Dense(units=1, activation='sigmoid'))"
   ]
  },
  {
   "cell_type": "markdown",
   "id": "350e71f1",
   "metadata": {},
   "source": [
    "PART 3 - TRAINING THE CNN"
   ]
  },
  {
   "cell_type": "markdown",
   "id": "79e00399",
   "metadata": {},
   "source": [
    "COMPILING THE CNN"
   ]
  },
  {
   "cell_type": "code",
   "execution_count": null,
   "id": "7f8640b5",
   "metadata": {},
   "outputs": [],
   "source": [
    "cnn.compile(optimizer='adam', loss='binary_crossentropy', metrics=['accuracy'])"
   ]
  },
  {
   "cell_type": "markdown",
   "id": "3eef3ad4",
   "metadata": {},
   "source": [
    "TRAINING THE CNN ON THE TRAINING SET AND EVALUATING IT ON THE TEST SET"
   ]
  },
  {
   "cell_type": "code",
   "execution_count": null,
   "id": "5ac6303d",
   "metadata": {},
   "outputs": [],
   "source": [
    "cnn.fit(x=training_set, validation_data=test_set, epochs=25)"
   ]
  },
  {
   "cell_type": "markdown",
   "id": "82dc2c72",
   "metadata": {},
   "source": [
    "PART 4 - MAKING A SINGLE PREDICTION"
   ]
  },
  {
   "cell_type": "code",
   "execution_count": null,
   "id": "2ebde564",
   "metadata": {},
   "outputs": [],
   "source": [
    "import numpy as np\n",
    "from tensorflow.keras.preprocessing import image\n",
    "\n",
    "test_image = image.load_img(r'dataset\\sample_set\\dog-or-cat-2.png', target_size=(80,80))\n",
    "test_image = image.img_to_array(test_image)\n",
    "test_image = np.expand_dims(test_image, axis=0)\n",
    "result = cnn.predict(test_image)\n",
    "training_set.class_indices\n",
    "if result[0][0] == 1:\n",
    "    prediction = 'DOG'\n",
    "else:\n",
    "    prediction = 'CAT'"
   ]
  },
  {
   "cell_type": "code",
   "execution_count": null,
   "id": "d53dee18",
   "metadata": {},
   "outputs": [],
   "source": [
    "print(prediction)"
   ]
  },
  {
   "cell_type": "code",
   "execution_count": null,
   "id": "c2dbb572",
   "metadata": {},
   "outputs": [],
   "source": [
    "print(result)"
   ]
  }
 ],
 "metadata": {
  "kernelspec": {
   "display_name": "Python 3",
   "language": "python",
   "name": "python3"
  },
  "language_info": {
   "codemirror_mode": {
    "name": "ipython",
    "version": 3
   },
   "file_extension": ".py",
   "mimetype": "text/x-python",
   "name": "python",
   "nbconvert_exporter": "python",
   "pygments_lexer": "ipython3",
   "version": "3.10.11"
  }
 },
 "nbformat": 4,
 "nbformat_minor": 5
}
